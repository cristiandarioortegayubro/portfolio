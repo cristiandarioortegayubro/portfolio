{
  "nbformat": 4,
  "nbformat_minor": 0,
  "metadata": {
    "colab": {
      "name": "pd_01_ed.ipynb",
      "provenance": [],
      "authorship_tag": "ABX9TyP2Ua/SlZKODz0Qv3j/XXYZ",
      "include_colab_link": true
    },
    "kernelspec": {
      "name": "python3",
      "display_name": "Python 3"
    },
    "language_info": {
      "name": "python"
    }
  },
  "cells": [
    {
      "cell_type": "markdown",
      "metadata": {
        "id": "view-in-github",
        "colab_type": "text"
      },
      "source": [
        "<a href=\"https://colab.research.google.com/github/cristiandarioortegayubro/portfolio/blob/main/colab/pandas/pd_ed_01.ipynb\" target=\"_parent\"><img src=\"https://colab.research.google.com/assets/colab-badge.svg\" alt=\"Open In Colab\"/></a>"
      ]
    },
    {
      "cell_type": "markdown",
      "metadata": {
        "id": "TX7_pddeKN6N"
      },
      "source": [
        "# Estructura de Datos"
      ]
    },
    {
      "cell_type": "code",
      "metadata": {
        "id": "Bsxo542I9fGF"
      },
      "source": [
        ""
      ],
      "execution_count": null,
      "outputs": []
    }
  ]
}